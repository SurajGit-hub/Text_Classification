{
  "nbformat": 4,
  "nbformat_minor": 0,
  "metadata": {
    "colab": {
      "provenance": []
    },
    "kernelspec": {
      "name": "python3",
      "display_name": "Python 3"
    },
    "language_info": {
      "name": "python"
    }
  },
  "cells": [
    {
      "cell_type": "code",
      "execution_count": null,
      "metadata": {
        "colab": {
          "base_uri": "https://localhost:8080/"
        },
        "id": "wM4FcFZN-WZ4",
        "outputId": "0a264603-8a8e-47cd-93b0-71febb7b1f31"
      },
      "outputs": [
        {
          "output_type": "stream",
          "name": "stdout",
          "text": [
            "Version:  2.15.0\n",
            "Eager mode:  True\n",
            "Hub version:  0.15.0\n",
            "GPU is NOT AVAILABLE\n"
          ]
        }
      ],
      "source": [
        "import os\n",
        "import numpy as np\n",
        "\n",
        "import tensorflow as tf\n",
        "import tensorflow_hub as hub\n",
        "import tensorflow_datasets as tfds\n",
        "\n",
        "print(\"Version: \", tf.__version__)\n",
        "print(\"Eager mode: \", tf.executing_eagerly())\n",
        "print(\"Hub version: \", hub.__version__)\n",
        "print(\"GPU is\", \"available\" if tf.config.list_physical_devices(\"GPU\") else \"NOT AVAILABLE\")"
      ]
    },
    {
      "cell_type": "code",
      "source": [
        "# Split the training set into 60% and 40% to end up with 15,000 examples\n",
        "# for training, 10,000 examples for validation and 25,000 examples for testing.\n",
        "train_data, validation_data, test_data = tfds.load(\n",
        "    name=\"yelp_polarity_reviews\",\n",
        "    split=('train[:60%]', 'train[60%:]', 'test'),\n",
        "    as_supervised=True)"
      ],
      "metadata": {
        "id": "2uyc5Z5zA115"
      },
      "execution_count": null,
      "outputs": []
    },
    {
      "cell_type": "code",
      "source": [
        "train_examples_batch, train_labels_batch = next(iter(train_data.batch(10)))\n",
        "train_examples_batch"
      ],
      "metadata": {
        "colab": {
          "base_uri": "https://localhost:8080/"
        },
        "id": "TX8mWlDuA2xy",
        "outputId": "c87af37f-301b-4ad2-ea1e-f1db5f20f2db"
      },
      "execution_count": null,
      "outputs": [
        {
          "output_type": "execute_result",
          "data": {
            "text/plain": [
              "<tf.Tensor: shape=(10,), dtype=string, numpy=\n",
              "array([b\"The Groovy P. and I ventured to his old stomping grounds for lunch today.  The '5 and Diner' on 16th St and Colter left me with little to ask for.  Before coming here I had a preconceived notion that 5 & Diners were dirty and nasty. Not the case at all.\\\\n\\\\nWe walk in and let the waitress know we want to sit outside (since it's so nice and they had misters).  We get two different servers bringing us stuff (talk about service) and I ask the one waitress for recommendations.  I didn't listen to her, of course, and ordered the Southwestern Burger w/ coleslaw and started with a nice stack of rings.\\\\n\\\\nThe Onion Rings were perfectly cooked.  They looked like they were prepackaged, but they were very crispy and I could actually bite through the onion without pulling the entire thing out (don't you hate that?!!!)\\\\n\\\\nThe Southwestern Burger was order Medium Rare and was cooked accordingly.  Soft, juicy, and pink with a nice crispy browned outer layer that can only be achieved on a well used grill.  The creaminess of the chipotle mayo paired beautifully with the green chiles.  Unfortunately, because I ate too many onion rings, I couldn't finish my burger.  What a shame!\\\\n\\\\nThe Coleslaw was just how I like it.  It's hard to find a really good coleslaw.  I prefer mine to be slightly sweet, not sour.  Too much vinegar in slaw ruins it in my opinion.  This slaw had the perfect marriage of mayo, vinegar, and sugar. Not to mention carrots...\\\\n\\\\nMy experience here was great!  The servers were top notch and kept my water full the entire time and actually chatted with us for a few minutes.\\\\n\\\\nThere is an artist guy named Ross who has been there every day for 5393 days straight. No, not an employee.  He goes there and does his art! He hasn't missed a SINGLE day!!! That's like... 15 years! So if you wanna seem to be 'in the know' ask where Ross is... They'll be able to tell you.\\\\n\\\\nTime for a nap!\",\n",
              "       b\"Mediocre burgers - if you are in the area and want a fast food burger, Fatburger is  a better bet than Wendy's. But it is nothing to go out of your way for.\",\n",
              "       b'Not at all impressed...our server was not very happy to be there...food was very sub-par and it was way to crowded. Not the good kind I crowded where you feel like \\\\\"\"wow this is great it must be busy because the food is so great..\\\\\"\" But the type of crowded where you feel a fight may break out. Also, if the chocolate fountain is their golden gem...why is it ok for people to dip the strawberry,lick off the chocolate and re dip it right then and there...absolutely disgusting! I Waited almost 10 minutes to dip...saw that and was immediately turned away...just saying...Never again!',\n",
              "       b\"I wish I would have read Megan P's review before I decided to cancel my dinner reservations because I was offered a COMP dinner at Beso.  \\\\n\\\\nTwo of my girlfriends and I were walking around Fashion Show Mall as a promoter approaches us to ask if we'd like to go to Eve Nightclub that night.  We wanted to go to Haze and XS so we declined.  The promoter (by the way - his name is ANDRE) offers us a comp dinner at Beso Eva Longoria's restaurant at Crystals Mall.  I guess what's the catch right?  Is there a comp limit and we have to pay after we hit the limit?  No, it's a set dinner.  He sets everything up and promises he'll even walk us into Haze and XS afterwards (which I actually believed).  \\\\n\\\\nHere's a review for ANDRE:\\\\nHe tells you to call him when you're at the restaurant to get you seated.  Well - he doesn't even pick up or return text messages.  Basically, I never even see him again since he approached us at Fashion Show Mall.  He never came to give us our bottle of campagne that he promised either.  AND he never shows up to walk us into Haze or set us up for XS.  On top of that, he gave my number to other promoters (for LAVO) without letting me know.  I guess these promoters get paid by the number of girls they can pull but I've definitely dealt with more reliable promoters that actually keep their word.  \\\\n\\\\nHere's a review for the MEAL:  \\\\nWe had a party of 9 girls.  We ordered cocktails ($15) and $4 (soda/iced tea/etc).  I ordered the Ginger Cosmo and I'd say I'd definitely not order that off the menu again.  (It was highly recommended by our waitress by the way!)  I didn't think any of the drinks were that great as I sipped my friend's drinks.  \\\\n\\\\nThe meal included the following:  (Keep in mind 9 GIRLS!!!)\\\\n1.  3 TINY portions of guac and chips.  Guac was OK but I've had better and I felt like the chips were a little stale.  \\\\n2.  2 plates of caesar salad.  I mean you can't really go wrong with caesar salad but I don't think the lettuce was very fresh. \\\\n3.  2 plates of steak and potatoes.  The portion on each plate was enough to probably feed 1 person so imagine 4 to 5 girls sharing the portion for 1 person.  I mean yes it's Vegas and we want to look good in our dresses but we also want to eat so we don't get wasted.  Yes, the steak was good - the whole 4 bites that I ate!  It's literally 1 slice per person as it's 5 pieces pre-cut.\\\\n\\\\nI'm sure this meal would have been better if we actually paid to dine at Beso but to be honest promoters should just tell people that it's a comp taste sampling and to come eaten!  I was on my phone yelping the nearest fast food restaurant for us to eat more but this comp meal only takes reservations 9/9:30/10 (they just want you to go to Eve Club even if you don't want to) so it doesn't really allow time to eat meal #2 before trying to get into a club the promoter promised to walk you right in but goes MIA.  I definitely would have rather paid to eat elsewhere and I will probably never step foot into Beso again.  \\\\n\\\\nYou win this time but I hope I win in the long run with this yelp review.\",\n",
              "       b'A large selection of food from all over the world. Great atmosphere and ambiance.  Quality of food is on par with a 5 star hotel. But did not have lobster and king crab that I was expecting for this kind of price.',\n",
              "       b'I know, I know a review for Subway, come on.  But I have to say that the service at this subway is top notch.  The staff is very friendly and always goes out of there way to say hello.  It is highly appreciated.  The food is pretty standard Subway fare.  Not too much to say there, but I will be be back again on my lunch breaks.',\n",
              "       b\"We came in for a pre-bachelor party madness meal and I have to say it was one of the best dining experiences I've ever had. \\\\n\\\\nStarted with some cocktails and their fried flat bread with dipping sauces to soak it up. Next we did a dozen oysters. For the main course we split the 32.oz steak, in my top five steaks of all time, a split order of king crab legs and lobster tail. All of it was amazing. It came with a side of mashed potato goodness and we threw in the broccoli. It was all fantastic, each bite was better than the last. \\\\n\\\\nOur server was incredible, really above and beyond the call of duty. The manager came by for a nice chat and we gushed about the food and the staff. \\\\n\\\\nThis was by far the best meal I've had in Las Vegas and I've had them all.\",\n",
              "       b\"Cheap and delicious! I eat here about once a week because it fills me up for cheap price and the people who work there are really fun. it's like a subway sandwich restaurant for Mexican food. I love the burrito w/ Cheese, Beans & rice w/ sour cream, less than $5 and best in town for that price\",\n",
              "       b'As good as it gets for a Vegas buffet. Better than all the other buffets out there on the strip.  The weekend seafood buffet which also includes beer and wine is only $26!  Will be going back for sure!  =D',\n",
              "       b\"Pittsburgh Bound!  Part X\\\\n\\\\n(For Part IX, go to: http://www.yelp.com/biz/stamoolis-brothers-company-pittsburgh?hrid=8hA8rRHss2PRlroWujzT_Q)\\\\n\\\\nThe Sunseri name is famous in Pittsburgh, and although their small alcove of Italian meats and bread is one of the smaller storefronts in the Strip, their pepperoni bread is melt in your mouth, filled with great mozzarella cheese.  I grabbed a loaf and we picked at it while we walked around.  My mom and I inhaled half of it without blinking an eye.\\\\n\\\\nIf you are going to get a loaf of Sunseri's pepperoni bread, I would suggest not doing it on an empty stomach.\\\\n\\\\n(For Part XI, go to: http://www.yelp.com/biz/primanti-brothers-pittsburgh?hrid=k97SGRvnhBMrHzqofs1WNg)\"],\n",
              "      dtype=object)>"
            ]
          },
          "metadata": {},
          "execution_count": 4
        }
      ]
    },
    {
      "cell_type": "code",
      "source": [
        "train_labels_batch"
      ],
      "metadata": {
        "colab": {
          "base_uri": "https://localhost:8080/"
        },
        "id": "8rpmWvrmBEY1",
        "outputId": "4745d647-f595-41c0-92fe-65d3abac3805"
      },
      "execution_count": null,
      "outputs": [
        {
          "output_type": "execute_result",
          "data": {
            "text/plain": [
              "<tf.Tensor: shape=(10,), dtype=int64, numpy=array([1, 0, 0, 0, 1, 1, 1, 1, 1, 1])>"
            ]
          },
          "metadata": {},
          "execution_count": 5
        }
      ]
    },
    {
      "cell_type": "code",
      "source": [
        "embedding = \"https://tfhub.dev/google/nnlm-en-dim50/2\"\n",
        "hub_layer = hub.KerasLayer(embedding, input_shape=[],\n",
        "                           dtype=tf.string, trainable=True)\n",
        "hub_layer(train_examples_batch[:3])"
      ],
      "metadata": {
        "colab": {
          "base_uri": "https://localhost:8080/"
        },
        "id": "QOq3UwygBOAB",
        "outputId": "f708c885-ad2c-47fd-e6e6-8e2e329c8d02"
      },
      "execution_count": null,
      "outputs": [
        {
          "output_type": "execute_result",
          "data": {
            "text/plain": [
              "<tf.Tensor: shape=(3, 50), dtype=float32, numpy=\n",
              "array([[ 1.2282207 , -0.0559625 , -0.21601607,  0.99687374,  0.26695687,\n",
              "         0.05945293,  0.20330893,  0.04012216, -0.90225977,  0.573527  ,\n",
              "         0.42579162,  0.29327655, -0.22316381,  0.55852324, -0.49511465,\n",
              "        -0.33061767, -0.09551742,  0.3102484 , -0.00745646, -1.2499541 ,\n",
              "         0.07989652, -0.6958521 ,  0.33565181,  0.31510636, -0.7297564 ,\n",
              "        -0.0076625 , -1.2424903 ,  0.23516458,  0.3022343 , -0.56144404,\n",
              "        -0.04623534,  0.57721865,  0.8767889 , -0.7155844 , -0.48821864,\n",
              "         0.82578564,  0.05932135,  0.05675524,  0.49876395, -0.6845291 ,\n",
              "         0.08247037,  0.09418593, -0.5611989 ,  0.335366  , -0.5268474 ,\n",
              "         0.48554182, -0.59483457, -0.68769866, -0.24508585,  0.23467816],\n",
              "       [ 0.36450046,  0.22738217, -0.09592111,  0.15292013, -0.19851975,\n",
              "        -0.3464091 ,  0.33521134,  0.07005676, -0.42989457,  0.26057708,\n",
              "        -0.04399252,  0.2049984 , -0.21570991, -0.14541769, -0.13797857,\n",
              "        -0.20365761, -0.33668226,  0.20876475,  0.08913178, -0.4311312 ,\n",
              "         0.1437767 , -0.295703  ,  0.43557394,  0.37826496, -0.3108349 ,\n",
              "         0.35127097, -0.51052964,  0.03975729, -0.03322169, -0.19746865,\n",
              "        -0.05876234, -0.01174604,  0.23658581, -0.39375487, -0.22033659,\n",
              "         0.09713039,  0.08728997, -0.01572419,  0.12253776, -0.37306026,\n",
              "         0.02274389,  0.25119242, -0.03434802,  0.15616767, -0.22223121,\n",
              "         0.01485511, -0.13289565, -0.12491184, -0.18055785,  0.23625278],\n",
              "       [ 0.864856  ,  0.10092771,  0.04746358,  0.47155264,  0.18096235,\n",
              "        -0.4275865 ,  0.42415926,  0.08752777, -0.6691216 ,  0.43312994,\n",
              "         0.0917863 ,  0.32876036,  0.11510213,  0.22047906, -0.33807233,\n",
              "        -0.0465134 , -0.3847908 ,  0.16753596,  0.3551968 , -1.0313355 ,\n",
              "         0.12706408, -0.31269202,  0.51751643,  0.25579977, -0.1385194 ,\n",
              "         0.3177123 , -0.54090965, -0.01845205,  0.03402875, -0.42070943,\n",
              "        -0.43025595,  0.45247236,  0.4682231 , -0.6509177 , -0.3528755 ,\n",
              "         0.2603211 ,  0.11082958,  0.10955309,  0.09133678, -0.54098856,\n",
              "         0.0327804 ,  0.34296697, -0.02945391,  0.17682852, -0.17194407,\n",
              "         0.17652702, -0.32032722, -0.3779426 , -0.16481896,  0.0292038 ]],\n",
              "      dtype=float32)>"
            ]
          },
          "metadata": {},
          "execution_count": 6
        }
      ]
    },
    {
      "cell_type": "code",
      "source": [
        " model = tf.keras.Sequential()\n",
        "model.add(tf.keras.layers.Input(shape=[], dtype=tf.string))  # Explicitly define input shape\n",
        "model.add(hub_layer)\n",
        "model.add(tf.keras.layers.Dense(16, activation='relu'))\n",
        "model.add(tf.keras.layers.Dense(1))\n",
        "\n",
        "model.summary()"
      ],
      "metadata": {
        "colab": {
          "base_uri": "https://localhost:8080/"
        },
        "id": "TM3MdqqCFUit",
        "outputId": "e4c9d1e7-696a-4f34-cac9-12a535418ef9"
      },
      "execution_count": null,
      "outputs": [
        {
          "output_type": "stream",
          "name": "stdout",
          "text": [
            "Model: \"sequential\"\n",
            "_________________________________________________________________\n",
            " Layer (type)                Output Shape              Param #   \n",
            "=================================================================\n",
            " keras_layer (KerasLayer)    (None, 50)                48190600  \n",
            "                                                                 \n",
            " dense (Dense)               (None, 16)                816       \n",
            "                                                                 \n",
            " dense_1 (Dense)             (None, 1)                 17        \n",
            "                                                                 \n",
            "=================================================================\n",
            "Total params: 48191433 (183.84 MB)\n",
            "Trainable params: 48191433 (183.84 MB)\n",
            "Non-trainable params: 0 (0.00 Byte)\n",
            "_________________________________________________________________\n"
          ]
        }
      ]
    },
    {
      "cell_type": "code",
      "source": [
        "model.compile(optimizer='adam',\n",
        "              loss=tf.keras.losses.BinaryCrossentropy(from_logits=True),\n",
        "              metrics=['accuracy'])"
      ],
      "metadata": {
        "id": "Sk4j_SAdGRIV"
      },
      "execution_count": null,
      "outputs": []
    },
    {
      "cell_type": "code",
      "source": [
        "history = model.fit(train_data.shuffle(10000).batch(512),\n",
        "                    epochs=10,\n",
        "                    validation_data=validation_data.batch(512),\n",
        "                    verbose=1)"
      ],
      "metadata": {
        "colab": {
          "base_uri": "https://localhost:8080/"
        },
        "id": "Yg3uhiLcGtZx",
        "outputId": "80abed6c-2932-4125-d345-d1a540a86484"
      },
      "execution_count": null,
      "outputs": [
        {
          "output_type": "stream",
          "name": "stdout",
          "text": [
            "Epoch 1/10\n",
            "657/657 [==============================] - 1041s 2s/step - loss: 0.2661 - accuracy: 0.8735 - val_loss: 0.1938 - val_accuracy: 0.9173\n",
            "Epoch 2/10\n",
            "657/657 [==============================] - 1069s 2s/step - loss: 0.1716 - accuracy: 0.9299 - val_loss: 0.1978 - val_accuracy: 0.9149\n",
            "Epoch 3/10\n",
            "657/657 [==============================] - 1064s 2s/step - loss: 0.1554 - accuracy: 0.9374 - val_loss: 0.2005 - val_accuracy: 0.9179\n",
            "Epoch 4/10\n",
            "657/657 [==============================] - 1066s 2s/step - loss: 0.1439 - accuracy: 0.9425 - val_loss: 0.2071 - val_accuracy: 0.9177\n",
            "Epoch 5/10\n",
            "657/657 [==============================] - 1066s 2s/step - loss: 0.1345 - accuracy: 0.9465 - val_loss: 0.2155 - val_accuracy: 0.9168\n",
            "Epoch 6/10\n",
            "657/657 [==============================] - 1127s 2s/step - loss: 0.1254 - accuracy: 0.9502 - val_loss: 0.2251 - val_accuracy: 0.9151\n",
            "Epoch 7/10\n",
            "657/657 [==============================] - 1102s 2s/step - loss: 0.1163 - accuracy: 0.9540 - val_loss: 0.2349 - val_accuracy: 0.9132\n",
            "Epoch 8/10\n",
            "657/657 [==============================] - 1044s 2s/step - loss: 0.1061 - accuracy: 0.9574 - val_loss: 0.2531 - val_accuracy: 0.9116\n",
            "Epoch 9/10\n",
            "657/657 [==============================] - 1060s 2s/step - loss: 0.0950 - accuracy: 0.9621 - val_loss: 0.2738 - val_accuracy: 0.9048\n",
            "Epoch 10/10\n",
            "657/657 [==============================] - 1108s 2s/step - loss: 0.0844 - accuracy: 0.9665 - val_loss: 0.3001 - val_accuracy: 0.9086\n"
          ]
        }
      ]
    },
    {
      "cell_type": "code",
      "source": [
        "results = model.evaluate(test_data.batch(512), verbose=2)\n",
        "\n",
        "for name, value in zip(model.metrics_names, results):\n",
        "  print(\"%s: %.3f\" % (name, value))"
      ],
      "metadata": {
        "colab": {
          "base_uri": "https://localhost:8080/"
        },
        "id": "QMm8RqljGwRf",
        "outputId": "6e6654b7-fcae-444c-93fd-0d6843f12c19"
      },
      "execution_count": null,
      "outputs": [
        {
          "output_type": "stream",
          "name": "stdout",
          "text": [
            "75/75 - 17s - loss: 0.2820 - accuracy: 0.9125 - 17s/epoch - 224ms/step\n",
            "loss: 0.282\n",
            "accuracy: 0.912\n"
          ]
        }
      ]
    },
    {
      "cell_type": "code",
      "source": [],
      "metadata": {
        "id": "0ntqKljzKMEf"
      },
      "execution_count": null,
      "outputs": []
    }
  ]
}